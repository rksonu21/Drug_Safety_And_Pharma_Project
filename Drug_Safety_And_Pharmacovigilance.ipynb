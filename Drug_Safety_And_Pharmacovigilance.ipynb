{
 "cells": [
  {
   "cell_type": "code",
   "execution_count": 73,
   "id": "3a9eb88c",
   "metadata": {},
   "outputs": [],
   "source": [
    "# import 'pandas' \n",
    "import pandas as pd \n",
    "\n",
    "# import 'numpy' \n",
    "import numpy as np\n",
    "\n",
    "# import subpackage of matplotlib\n",
    "import matplotlib.pyplot as plt\n",
    "\n",
    "# import 'seaborn'\n",
    "import seaborn as sns\n",
    "\n",
    "# to suppress warnings \n",
    "from warnings import filterwarnings\n",
    "filterwarnings('ignore')\n",
    "\n",
    "# import 'random' to generate random sample\n",
    "import random\n",
    "\n",
    "# import statistics to perform statistical computation  \n",
    "import statistics\n",
    "\n",
    "# import 'stats' package from scipy library\n",
    "from scipy import stats\n",
    "\n",
    "# import a library to perform Z-test\n",
    "from statsmodels.stats import weightstats as stests\n",
    "\n",
    "# to test the normality \n",
    "from scipy.stats import shapiro\n",
    "\n",
    "# import the function to calculate the power of test\n",
    "from statsmodels.stats import power"
   ]
  },
  {
   "cell_type": "code",
   "execution_count": 74,
   "id": "477452cd",
   "metadata": {},
   "outputs": [],
   "source": [
    "#Import the dataset\n",
    "\n",
    "df = pd.read_csv('Drug safety and pharmacovigilance.csv')\n",
    "df['Drug'] = df['Drug'].replace({'DrugY': 'Drug Y', 'drugX': 'Drug X', 'drugA': 'Drug A', 'drugC': 'Drug C', 'drugB': 'Drug B'})"
   ]
  },
  {
   "cell_type": "code",
   "execution_count": 75,
   "id": "b3214c2e",
   "metadata": {},
   "outputs": [
    {
     "data": {
      "text/html": [
       "<div>\n",
       "<style scoped>\n",
       "    .dataframe tbody tr th:only-of-type {\n",
       "        vertical-align: middle;\n",
       "    }\n",
       "\n",
       "    .dataframe tbody tr th {\n",
       "        vertical-align: top;\n",
       "    }\n",
       "\n",
       "    .dataframe thead th {\n",
       "        text-align: right;\n",
       "    }\n",
       "</style>\n",
       "<table border=\"1\" class=\"dataframe\">\n",
       "  <thead>\n",
       "    <tr style=\"text-align: right;\">\n",
       "      <th></th>\n",
       "      <th>Age</th>\n",
       "      <th>Sex</th>\n",
       "      <th>BP</th>\n",
       "      <th>Cholesterol</th>\n",
       "      <th>Na_to_K</th>\n",
       "      <th>Drug</th>\n",
       "    </tr>\n",
       "  </thead>\n",
       "  <tbody>\n",
       "    <tr>\n",
       "      <th>0</th>\n",
       "      <td>23</td>\n",
       "      <td>F</td>\n",
       "      <td>HIGH</td>\n",
       "      <td>HIGH</td>\n",
       "      <td>25.355</td>\n",
       "      <td>Drug Y</td>\n",
       "    </tr>\n",
       "    <tr>\n",
       "      <th>1</th>\n",
       "      <td>47</td>\n",
       "      <td>M</td>\n",
       "      <td>LOW</td>\n",
       "      <td>HIGH</td>\n",
       "      <td>13.093</td>\n",
       "      <td>Drug C</td>\n",
       "    </tr>\n",
       "    <tr>\n",
       "      <th>2</th>\n",
       "      <td>47</td>\n",
       "      <td>M</td>\n",
       "      <td>LOW</td>\n",
       "      <td>HIGH</td>\n",
       "      <td>10.114</td>\n",
       "      <td>Drug C</td>\n",
       "    </tr>\n",
       "    <tr>\n",
       "      <th>3</th>\n",
       "      <td>28</td>\n",
       "      <td>F</td>\n",
       "      <td>NORMAL</td>\n",
       "      <td>HIGH</td>\n",
       "      <td>7.798</td>\n",
       "      <td>Drug X</td>\n",
       "    </tr>\n",
       "    <tr>\n",
       "      <th>4</th>\n",
       "      <td>61</td>\n",
       "      <td>F</td>\n",
       "      <td>LOW</td>\n",
       "      <td>HIGH</td>\n",
       "      <td>18.043</td>\n",
       "      <td>Drug Y</td>\n",
       "    </tr>\n",
       "  </tbody>\n",
       "</table>\n",
       "</div>"
      ],
      "text/plain": [
       "   Age Sex      BP Cholesterol  Na_to_K    Drug\n",
       "0   23   F    HIGH        HIGH   25.355  Drug Y\n",
       "1   47   M     LOW        HIGH   13.093  Drug C\n",
       "2   47   M     LOW        HIGH   10.114  Drug C\n",
       "3   28   F  NORMAL        HIGH    7.798  Drug X\n",
       "4   61   F     LOW        HIGH   18.043  Drug Y"
      ]
     },
     "execution_count": 75,
     "metadata": {},
     "output_type": "execute_result"
    }
   ],
   "source": [
    "df.head()"
   ]
  },
  {
   "cell_type": "code",
   "execution_count": 76,
   "id": "9c9e7eda",
   "metadata": {},
   "outputs": [
    {
     "data": {
      "text/html": [
       "<div>\n",
       "<style scoped>\n",
       "    .dataframe tbody tr th:only-of-type {\n",
       "        vertical-align: middle;\n",
       "    }\n",
       "\n",
       "    .dataframe tbody tr th {\n",
       "        vertical-align: top;\n",
       "    }\n",
       "\n",
       "    .dataframe thead th {\n",
       "        text-align: right;\n",
       "    }\n",
       "</style>\n",
       "<table border=\"1\" class=\"dataframe\">\n",
       "  <thead>\n",
       "    <tr style=\"text-align: right;\">\n",
       "      <th></th>\n",
       "      <th>count</th>\n",
       "      <th>mean</th>\n",
       "      <th>std</th>\n",
       "      <th>min</th>\n",
       "      <th>25%</th>\n",
       "      <th>50%</th>\n",
       "      <th>75%</th>\n",
       "      <th>max</th>\n",
       "    </tr>\n",
       "  </thead>\n",
       "  <tbody>\n",
       "    <tr>\n",
       "      <th>Age</th>\n",
       "      <td>200.0</td>\n",
       "      <td>44.315000</td>\n",
       "      <td>16.544315</td>\n",
       "      <td>15.000</td>\n",
       "      <td>31.0000</td>\n",
       "      <td>45.0000</td>\n",
       "      <td>58.00</td>\n",
       "      <td>74.000</td>\n",
       "    </tr>\n",
       "    <tr>\n",
       "      <th>Na_to_K</th>\n",
       "      <td>200.0</td>\n",
       "      <td>16.084485</td>\n",
       "      <td>7.223956</td>\n",
       "      <td>6.269</td>\n",
       "      <td>10.4455</td>\n",
       "      <td>13.9365</td>\n",
       "      <td>19.38</td>\n",
       "      <td>38.247</td>\n",
       "    </tr>\n",
       "  </tbody>\n",
       "</table>\n",
       "</div>"
      ],
      "text/plain": [
       "         count       mean        std     min      25%      50%    75%     max\n",
       "Age      200.0  44.315000  16.544315  15.000  31.0000  45.0000  58.00  74.000\n",
       "Na_to_K  200.0  16.084485   7.223956   6.269  10.4455  13.9365  19.38  38.247"
      ]
     },
     "execution_count": 76,
     "metadata": {},
     "output_type": "execute_result"
    }
   ],
   "source": [
    "# Making a statistical summary of all numerical columns in the dataset\n",
    "\n",
    "df.describe().T"
   ]
  },
  {
   "cell_type": "code",
   "execution_count": 77,
   "id": "26ba71df",
   "metadata": {},
   "outputs": [
    {
     "data": {
      "text/plain": [
       "M    104\n",
       "F     96\n",
       "Name: Sex, dtype: int64"
      ]
     },
     "execution_count": 77,
     "metadata": {},
     "output_type": "execute_result"
    }
   ],
   "source": [
    "# Taking the value caunt of the gender of the patients in the dataset\n",
    "\n",
    "df['Sex'].value_counts()"
   ]
  },
  {
   "cell_type": "code",
   "execution_count": 78,
   "id": "dac5ac08",
   "metadata": {},
   "outputs": [
    {
     "data": {
      "image/png": "[encoded data removed]",
      "text/plain": [
       "<Figure size 640x480 with 1 Axes>"
      ]
     },
     "metadata": {},
     "output_type": "display_data"
    }
   ],
   "source": [
    "# Making a barplot of on the gender of the patients.\n",
    "\n",
    "sns.countplot(data=df, x='Sex', palette='viridis')\n",
    "plt.title('Gender Plot')\n",
    "plt.show()"
   ]
  },
  {
   "cell_type": "code",
   "execution_count": 79,
   "id": "c028e2a9",
   "metadata": {},
   "outputs": [
    {
     "data": {
      "text/plain": [
       "Drug Y    91\n",
       "Drug X    54\n",
       "Drug A    23\n",
       "Drug C    16\n",
       "Drug B    16\n",
       "Name: Drug, dtype: int64"
      ]
     },
     "execution_count": 79,
     "metadata": {},
     "output_type": "execute_result"
    }
   ],
   "source": [
    "# Taking the value caunt of the Drug Types in the dataset.\n",
    "\n",
    "df['Drug'].value_counts()"
   ]
  },
  {
   "cell_type": "code",
   "execution_count": 96,
   "id": "8482c0b1",
   "metadata": {},
   "outputs": [
    {
     "data": {
      "image/png": "[encoded data removed]",
      "text/plain": [
       "<Figure size 800x600 with 1 Axes>"
      ]
     },
     "metadata": {},
     "output_type": "display_data"
    }
   ],
   "source": [
    "# Making a barplot of on the Drug Types in the dataset.\n",
    "\n",
    "plt.figure(figsize=(8, 6))\n",
    "sns.countplot(data=df, x='Drug', palette='viridis')\n",
    "plt.title('Drug Type Plot')\n",
    "plt.show()"
   ]
  },
  {
   "cell_type": "code",
   "execution_count": 97,
   "id": "82e3ba83",
   "metadata": {
    "scrolled": true
   },
   "outputs": [
    {
     "data": {
      "text/plain": [
       "HIGH      77\n",
       "LOW       64\n",
       "NORMAL    59\n",
       "Name: BP, dtype: int64"
      ]
     },
     "execution_count": 97,
     "metadata": {},
     "output_type": "execute_result"
    }
   ],
   "source": [
    "# Taking the value count of the Blood Pressure in the dataset.\n",
    "\n",
    "df['BP'].value_counts()"
   ]
  },
  {
   "cell_type": "code",
   "execution_count": 98,
   "id": "58cc92ff",
   "metadata": {},
   "outputs": [
    {
     "data": {
      "image/png": "[encoded data removed]",
      "text/plain": [
       "<Figure size 640x480 with 1 Axes>"
      ]
     },
     "metadata": {},
     "output_type": "display_data"
    }
   ],
   "source": [
    "# Making a barplot of on the Blood Pressure in the dataset.\n",
    "\n",
    "sns.countplot(data=df, x='BP', palette='viridis')\n",
    "plt.title('Blood Pressure Plot')\n",
    "plt.show()"
   ]
  },
  {
   "cell_type": "code",
   "execution_count": 99,
   "id": "a22e72d4",
   "metadata": {},
   "outputs": [
    {
     "data": {
      "text/plain": [
       "HIGH      103\n",
       "NORMAL     97\n",
       "Name: Cholesterol, dtype: int64"
      ]
     },
     "execution_count": 99,
     "metadata": {},
     "output_type": "execute_result"
    }
   ],
   "source": [
    "# Taking the value count of the Cholesterol in the dataset.\n",
    "\n",
    "df['Cholesterol'].value_counts()"
   ]
  },
  {
   "cell_type": "code",
   "execution_count": null,
   "id": "046a843e",
   "metadata": {},
   "outputs": [],
   "source": [
    "# Making a barplot of on the Cholesterol in the dataset.\n",
    "\n",
    "sns.countplot(data=df, x='Cholesterol', palette='viridis')\n",
    "plt.title('Cholesterol-Level Plot')\n",
    "plt.show()"
   ]
  },
  {
   "cell_type": "markdown",
   "id": "c53caddf",
   "metadata": {},
   "source": [
    "# Data Manipulation and Feature Transformation"
   ]
  },
  {
   "cell_type": "code",
   "execution_count": 207,
   "id": "0b8d0127",
   "metadata": {},
   "outputs": [],
   "source": [
    "# Defining the replacement mappings for multiple columns\n",
    "replacements = {\n",
    "    'Sex': {'M': 1, 'F': 0},\n",
    "    'Cholesterol': {'HIGH': 1, 'NORMAL': 0},\n",
    "    'BP': {'HIGH': 1, 'NORMAL': 0, 'LOW': 1},\n",
    "}\n",
    "\n",
    "# Creating a new DataFrame with the replacements applied\n",
    "new_df = df.replace(replacements)"
   ]
  },
  {
   "cell_type": "code",
   "execution_count": 208,
   "id": "385f971d",
   "metadata": {},
   "outputs": [
    {
     "data": {
      "text/html": [
       "<div>\n",
       "<style scoped>\n",
       "    .dataframe tbody tr th:only-of-type {\n",
       "        vertical-align: middle;\n",
       "    }\n",
       "\n",
       "    .dataframe tbody tr th {\n",
       "        vertical-align: top;\n",
       "    }\n",
       "\n",
       "    .dataframe thead th {\n",
       "        text-align: right;\n",
       "    }\n",
       "</style>\n",
       "<table border=\"1\" class=\"dataframe\">\n",
       "  <thead>\n",
       "    <tr style=\"text-align: right;\">\n",
       "      <th></th>\n",
       "      <th>Sex</th>\n",
       "      <th>BP</th>\n",
       "      <th>Cholesterol</th>\n",
       "      <th>Drug</th>\n",
       "      <th>Age_Group</th>\n",
       "      <th>Na_K_Ratio_Group</th>\n",
       "    </tr>\n",
       "  </thead>\n",
       "  <tbody>\n",
       "    <tr>\n",
       "      <th>0</th>\n",
       "      <td>0</td>\n",
       "      <td>1</td>\n",
       "      <td>1</td>\n",
       "      <td>Drug Y</td>\n",
       "      <td>&lt;31</td>\n",
       "      <td>&gt;19.40</td>\n",
       "    </tr>\n",
       "    <tr>\n",
       "      <th>1</th>\n",
       "      <td>1</td>\n",
       "      <td>1</td>\n",
       "      <td>1</td>\n",
       "      <td>Drug C</td>\n",
       "      <td>31 to 58</td>\n",
       "      <td>&gt;10.45 to &lt;19.40</td>\n",
       "    </tr>\n",
       "    <tr>\n",
       "      <th>2</th>\n",
       "      <td>1</td>\n",
       "      <td>1</td>\n",
       "      <td>1</td>\n",
       "      <td>Drug C</td>\n",
       "      <td>31 to 58</td>\n",
       "      <td>&lt;10.45</td>\n",
       "    </tr>\n",
       "    <tr>\n",
       "      <th>3</th>\n",
       "      <td>0</td>\n",
       "      <td>0</td>\n",
       "      <td>1</td>\n",
       "      <td>Drug X</td>\n",
       "      <td>&lt;31</td>\n",
       "      <td>&lt;10.45</td>\n",
       "    </tr>\n",
       "    <tr>\n",
       "      <th>4</th>\n",
       "      <td>0</td>\n",
       "      <td>1</td>\n",
       "      <td>1</td>\n",
       "      <td>Drug Y</td>\n",
       "      <td>&gt;58</td>\n",
       "      <td>&gt;10.45 to &lt;19.40</td>\n",
       "    </tr>\n",
       "  </tbody>\n",
       "</table>\n",
       "</div>"
      ],
      "text/plain": [
       "   Sex  BP  Cholesterol    Drug Age_Group  Na_K_Ratio_Group\n",
       "0    0   1            1  Drug Y       <31            >19.40\n",
       "1    1   1            1  Drug C  31 to 58  >10.45 to <19.40\n",
       "2    1   1            1  Drug C  31 to 58            <10.45\n",
       "3    0   0            1  Drug X       <31            <10.45\n",
       "4    0   1            1  Drug Y       >58  >10.45 to <19.40"
      ]
     },
     "execution_count": 208,
     "metadata": {},
     "output_type": "execute_result"
    }
   ],
   "source": [
    "\n",
    "# Categorizing 'Age' into three bins based on quantiles\n",
    "new_df['Age_Group'] = pd.qcut(new_df['Age'], q=[0, 0.25, 0.75, 1], labels=['<31', '31 to 58', '>58'])\n",
    "\n",
    "# Categorizing 'Na_to_K' into three bins based on quantiles\n",
    "new_df['Na_K_Ratio_Group'] = pd.qcut(new_df['Na_to_K'], q=[0, 0.25, 0.75, 1], labels=['<10.45', '>10.45 to <19.40', '>19.40'])\n",
    "\n",
    "drop_columns = ['Age', 'Na_to_K']\n",
    "new_df = new_df.drop(drop_columns, axis=1)\n",
    "\n",
    "new_df.head()"
   ]
  },
  {
   "cell_type": "markdown",
   "id": "a16acafd",
   "metadata": {},
   "source": [
    "# Hypothesis Testing and Statistical Inference"
   ]
  },
  {
   "cell_type": "code",
   "execution_count": 209,
   "id": "e4e92e7c",
   "metadata": {
    "scrolled": false
   },
   "outputs": [],
   "source": [
    "def cramers_V(var1,var2) :\n",
    "  crosstab =np.array(pd.crosstab(var1,var2, rownames=None, colnames=None)) # Cross table building\n",
    "  stat = chi2_contingency(crosstab)[0] # Keeping of the test statistic of the Chi2 test\n",
    "  obs = np.sum(crosstab) # Number of observations\n",
    "  mini = min(crosstab.shape)-1 # Take the minimum value between the columns and the rows of the cross table\n",
    "  return (stat/(obs*mini))"
   ]
  },
  {
   "cell_type": "code",
   "execution_count": 210,
   "id": "935c3628",
   "metadata": {},
   "outputs": [
    {
     "data": {
      "text/html": [
       "<div>\n",
       "<style scoped>\n",
       "    .dataframe tbody tr th:only-of-type {\n",
       "        vertical-align: middle;\n",
       "    }\n",
       "\n",
       "    .dataframe tbody tr th {\n",
       "        vertical-align: top;\n",
       "    }\n",
       "\n",
       "    .dataframe thead th {\n",
       "        text-align: right;\n",
       "    }\n",
       "</style>\n",
       "<table border=\"1\" class=\"dataframe\">\n",
       "  <thead>\n",
       "    <tr style=\"text-align: right;\">\n",
       "      <th></th>\n",
       "      <th>Sex</th>\n",
       "      <th>BP</th>\n",
       "      <th>Drug</th>\n",
       "      <th>Cholesterol</th>\n",
       "      <th>Age_Group</th>\n",
       "      <th>Na_K_Ratio_Group</th>\n",
       "    </tr>\n",
       "  </thead>\n",
       "  <tbody>\n",
       "    <tr>\n",
       "      <th>0</th>\n",
       "      <td>0</td>\n",
       "      <td>1</td>\n",
       "      <td>Drug Y</td>\n",
       "      <td>1</td>\n",
       "      <td>&lt;31</td>\n",
       "      <td>&gt;19.40</td>\n",
       "    </tr>\n",
       "    <tr>\n",
       "      <th>1</th>\n",
       "      <td>1</td>\n",
       "      <td>1</td>\n",
       "      <td>Drug C</td>\n",
       "      <td>1</td>\n",
       "      <td>31 to 58</td>\n",
       "      <td>&gt;10.45 to &lt;19.40</td>\n",
       "    </tr>\n",
       "    <tr>\n",
       "      <th>2</th>\n",
       "      <td>1</td>\n",
       "      <td>1</td>\n",
       "      <td>Drug C</td>\n",
       "      <td>1</td>\n",
       "      <td>31 to 58</td>\n",
       "      <td>&lt;10.45</td>\n",
       "    </tr>\n",
       "    <tr>\n",
       "      <th>3</th>\n",
       "      <td>0</td>\n",
       "      <td>0</td>\n",
       "      <td>Drug X</td>\n",
       "      <td>1</td>\n",
       "      <td>&lt;31</td>\n",
       "      <td>&lt;10.45</td>\n",
       "    </tr>\n",
       "    <tr>\n",
       "      <th>4</th>\n",
       "      <td>0</td>\n",
       "      <td>1</td>\n",
       "      <td>Drug Y</td>\n",
       "      <td>1</td>\n",
       "      <td>&gt;58</td>\n",
       "      <td>&gt;10.45 to &lt;19.40</td>\n",
       "    </tr>\n",
       "  </tbody>\n",
       "</table>\n",
       "</div>"
      ],
      "text/plain": [
       "   Sex  BP    Drug  Cholesterol Age_Group  Na_K_Ratio_Group\n",
       "0    0   1  Drug Y            1       <31            >19.40\n",
       "1    1   1  Drug C            1  31 to 58  >10.45 to <19.40\n",
       "2    1   1  Drug C            1  31 to 58            <10.45\n",
       "3    0   0  Drug X            1       <31            <10.45\n",
       "4    0   1  Drug Y            1       >58  >10.45 to <19.40"
      ]
     },
     "execution_count": 210,
     "metadata": {},
     "output_type": "execute_result"
    }
   ],
   "source": [
    "categorical_values = new_df[['Sex','BP','Drug','Cholesterol','Age_Group', 'Na_K_Ratio_Group']]\n",
    "\n",
    "categorical_values.head(5)"
   ]
  },
  {
   "cell_type": "code",
   "execution_count": 211,
   "id": "d6c28484",
   "metadata": {},
   "outputs": [],
   "source": [
    "rows= []\n",
    "\n",
    "for var1 in categorical_values:\n",
    "  col = []\n",
    "  for var2 in categorical_values :\n",
    "    cramers =cramers_V(categorical_values[var1], categorical_values[var2]) # Cramer's V test\n",
    "    col.append(round(cramers,2)) # Keeping of the rounded value of the Cramer's V  \n",
    "  rows.append(col)\n",
    "  \n",
    "cramers_results = np.array(rows)\n",
    "df_cramer = pd.DataFrame(cramers_results, columns = categorical_values.columns, index =categorical_values.columns)"
   ]
  },
  {
   "cell_type": "code",
   "execution_count": 212,
   "id": "6eb52047",
   "metadata": {
    "scrolled": false
   },
   "outputs": [
    {
     "data": {
      "text/html": [
       "<div>\n",
       "<style scoped>\n",
       "    .dataframe tbody tr th:only-of-type {\n",
       "        vertical-align: middle;\n",
       "    }\n",
       "\n",
       "    .dataframe tbody tr th {\n",
       "        vertical-align: top;\n",
       "    }\n",
       "\n",
       "    .dataframe thead th {\n",
       "        text-align: right;\n",
       "    }\n",
       "</style>\n",
       "<table border=\"1\" class=\"dataframe\">\n",
       "  <thead>\n",
       "    <tr style=\"text-align: right;\">\n",
       "      <th></th>\n",
       "      <th>Sex</th>\n",
       "      <th>BP</th>\n",
       "      <th>Drug</th>\n",
       "      <th>Cholesterol</th>\n",
       "      <th>Age_Group</th>\n",
       "      <th>Na_K_Ratio_Group</th>\n",
       "    </tr>\n",
       "  </thead>\n",
       "  <tbody>\n",
       "    <tr>\n",
       "      <th>Sex</th>\n",
       "      <td>0.98</td>\n",
       "      <td>0.00</td>\n",
       "      <td>0.01</td>\n",
       "      <td>0.00</td>\n",
       "      <td>0.01</td>\n",
       "      <td>0.02</td>\n",
       "    </tr>\n",
       "    <tr>\n",
       "      <th>BP</th>\n",
       "      <td>0.00</td>\n",
       "      <td>0.98</td>\n",
       "      <td>0.30</td>\n",
       "      <td>0.02</td>\n",
       "      <td>0.01</td>\n",
       "      <td>0.03</td>\n",
       "    </tr>\n",
       "    <tr>\n",
       "      <th>Drug</th>\n",
       "      <td>0.01</td>\n",
       "      <td>0.30</td>\n",
       "      <td>1.00</td>\n",
       "      <td>0.10</td>\n",
       "      <td>0.07</td>\n",
       "      <td>0.26</td>\n",
       "    </tr>\n",
       "    <tr>\n",
       "      <th>Cholesterol</th>\n",
       "      <td>0.00</td>\n",
       "      <td>0.02</td>\n",
       "      <td>0.10</td>\n",
       "      <td>0.98</td>\n",
       "      <td>0.01</td>\n",
       "      <td>0.00</td>\n",
       "    </tr>\n",
       "    <tr>\n",
       "      <th>Age_Group</th>\n",
       "      <td>0.01</td>\n",
       "      <td>0.01</td>\n",
       "      <td>0.07</td>\n",
       "      <td>0.01</td>\n",
       "      <td>1.00</td>\n",
       "      <td>0.01</td>\n",
       "    </tr>\n",
       "    <tr>\n",
       "      <th>Na_K_Ratio_Group</th>\n",
       "      <td>0.02</td>\n",
       "      <td>0.03</td>\n",
       "      <td>0.26</td>\n",
       "      <td>0.00</td>\n",
       "      <td>0.01</td>\n",
       "      <td>1.00</td>\n",
       "    </tr>\n",
       "  </tbody>\n",
       "</table>\n",
       "</div>"
      ],
      "text/plain": [
       "                   Sex    BP  Drug  Cholesterol  Age_Group  Na_K_Ratio_Group\n",
       "Sex               0.98  0.00  0.01         0.00       0.01              0.02\n",
       "BP                0.00  0.98  0.30         0.02       0.01              0.03\n",
       "Drug              0.01  0.30  1.00         0.10       0.07              0.26\n",
       "Cholesterol       0.00  0.02  0.10         0.98       0.01              0.00\n",
       "Age_Group         0.01  0.01  0.07         0.01       1.00              0.01\n",
       "Na_K_Ratio_Group  0.02  0.03  0.26         0.00       0.01              1.00"
      ]
     },
     "execution_count": 212,
     "metadata": {},
     "output_type": "execute_result"
    }
   ],
   "source": [
    "df_cramer"
   ]
  },
  {
   "cell_type": "code",
   "execution_count": 213,
   "id": "e8d70f9b",
   "metadata": {},
   "outputs": [
    {
     "data": {
      "image/png": "[encoded data removed]",
      "text/plain": [
       "<Figure size 640x480 with 2 Axes>"
      ]
     },
     "metadata": {},
     "output_type": "display_data"
    }
   ],
   "source": [
    "# generating 2-D 10x10 matrix of random numbers\n",
    "# from 1 to 100\n",
    "data = np.random.randint(low=1,\n",
    "                         high=100,\n",
    "                         size=(10, 10))\n",
    "  \n",
    "# setting the parameter values\n",
    "annot = True\n",
    "  \n",
    "# plotting the heatmap\n",
    "hm = sns.heatmap(data=df_cramer,\n",
    "                annot=annot)\n",
    "  \n",
    "# displaying the plotted heatmap\n",
    "plt.show()"
   ]
  },
  {
   "cell_type": "code",
   "execution_count": 214,
   "id": "a10d6c3a",
   "metadata": {},
   "outputs": [
    {
     "data": {
      "text/html": [
       "<div>\n",
       "<style scoped>\n",
       "    .dataframe tbody tr th:only-of-type {\n",
       "        vertical-align: middle;\n",
       "    }\n",
       "\n",
       "    .dataframe tbody tr th {\n",
       "        vertical-align: top;\n",
       "    }\n",
       "\n",
       "    .dataframe thead th {\n",
       "        text-align: right;\n",
       "    }\n",
       "</style>\n",
       "<table border=\"1\" class=\"dataframe\">\n",
       "  <thead>\n",
       "    <tr style=\"text-align: right;\">\n",
       "      <th></th>\n",
       "      <th>Sex</th>\n",
       "      <th>BP</th>\n",
       "      <th>Cholesterol</th>\n",
       "      <th>Drug</th>\n",
       "      <th>Age_Group</th>\n",
       "      <th>Na_K_Ratio_Group</th>\n",
       "    </tr>\n",
       "  </thead>\n",
       "  <tbody>\n",
       "    <tr>\n",
       "      <th>0</th>\n",
       "      <td>0</td>\n",
       "      <td>1</td>\n",
       "      <td>1</td>\n",
       "      <td>Drug Y</td>\n",
       "      <td>&lt;31</td>\n",
       "      <td>&gt;19.40</td>\n",
       "    </tr>\n",
       "    <tr>\n",
       "      <th>1</th>\n",
       "      <td>1</td>\n",
       "      <td>1</td>\n",
       "      <td>1</td>\n",
       "      <td>Drug C</td>\n",
       "      <td>31 to 58</td>\n",
       "      <td>&gt;10.45 to &lt;19.40</td>\n",
       "    </tr>\n",
       "    <tr>\n",
       "      <th>2</th>\n",
       "      <td>1</td>\n",
       "      <td>1</td>\n",
       "      <td>1</td>\n",
       "      <td>Drug C</td>\n",
       "      <td>31 to 58</td>\n",
       "      <td>&lt;10.45</td>\n",
       "    </tr>\n",
       "    <tr>\n",
       "      <th>3</th>\n",
       "      <td>0</td>\n",
       "      <td>0</td>\n",
       "      <td>1</td>\n",
       "      <td>Drug X</td>\n",
       "      <td>&lt;31</td>\n",
       "      <td>&lt;10.45</td>\n",
       "    </tr>\n",
       "    <tr>\n",
       "      <th>4</th>\n",
       "      <td>0</td>\n",
       "      <td>1</td>\n",
       "      <td>1</td>\n",
       "      <td>Drug Y</td>\n",
       "      <td>&gt;58</td>\n",
       "      <td>&gt;10.45 to &lt;19.40</td>\n",
       "    </tr>\n",
       "  </tbody>\n",
       "</table>\n",
       "</div>"
      ],
      "text/plain": [
       "   Sex  BP  Cholesterol    Drug Age_Group  Na_K_Ratio_Group\n",
       "0    0   1            1  Drug Y       <31            >19.40\n",
       "1    1   1            1  Drug C  31 to 58  >10.45 to <19.40\n",
       "2    1   1            1  Drug C  31 to 58            <10.45\n",
       "3    0   0            1  Drug X       <31            <10.45\n",
       "4    0   1            1  Drug Y       >58  >10.45 to <19.40"
      ]
     },
     "execution_count": 214,
     "metadata": {},
     "output_type": "execute_result"
    }
   ],
   "source": [
    "new_df.head()"
   ]
  },
  {
   "cell_type": "markdown",
   "id": "2e6b4147",
   "metadata": {},
   "source": [
    "## Running Chi-Square Test for Independence"
   ]
  },
  {
   "cell_type": "code",
   "execution_count": 215,
   "id": "843d8032",
   "metadata": {},
   "outputs": [
    {
     "data": {
      "text/html": [
       "<div>\n",
       "<style scoped>\n",
       "    .dataframe tbody tr th:only-of-type {\n",
       "        vertical-align: middle;\n",
       "    }\n",
       "\n",
       "    .dataframe tbody tr th {\n",
       "        vertical-align: top;\n",
       "    }\n",
       "\n",
       "    .dataframe thead th {\n",
       "        text-align: right;\n",
       "    }\n",
       "</style>\n",
       "<table border=\"1\" class=\"dataframe\">\n",
       "  <thead>\n",
       "    <tr style=\"text-align: right;\">\n",
       "      <th>Drug</th>\n",
       "      <th>Drug A</th>\n",
       "      <th>Drug B</th>\n",
       "      <th>Drug C</th>\n",
       "      <th>Drug X</th>\n",
       "      <th>Drug Y</th>\n",
       "    </tr>\n",
       "    <tr>\n",
       "      <th>BP</th>\n",
       "      <th></th>\n",
       "      <th></th>\n",
       "      <th></th>\n",
       "      <th></th>\n",
       "      <th></th>\n",
       "    </tr>\n",
       "  </thead>\n",
       "  <tbody>\n",
       "    <tr>\n",
       "      <th>0</th>\n",
       "      <td>0</td>\n",
       "      <td>0</td>\n",
       "      <td>0</td>\n",
       "      <td>36</td>\n",
       "      <td>23</td>\n",
       "    </tr>\n",
       "    <tr>\n",
       "      <th>1</th>\n",
       "      <td>23</td>\n",
       "      <td>16</td>\n",
       "      <td>16</td>\n",
       "      <td>18</td>\n",
       "      <td>68</td>\n",
       "    </tr>\n",
       "  </tbody>\n",
       "</table>\n",
       "</div>"
      ],
      "text/plain": [
       "Drug  Drug A  Drug B  Drug C  Drug X  Drug Y\n",
       "BP                                          \n",
       "0          0       0       0      36      23\n",
       "1         23      16      16      18      68"
      ]
     },
     "execution_count": 215,
     "metadata": {},
     "output_type": "execute_result"
    }
   ],
   "source": [
    "# Creating contingency tables\n",
    "bp_drug_table = pd.crosstab(new_df['BP'], new_df['Drug'])\n",
    "bp_drug_table"
   ]
  },
  {
   "cell_type": "code",
   "execution_count": 216,
   "id": "1044bbf0",
   "metadata": {},
   "outputs": [
    {
     "name": "stdout",
     "output_type": "stream",
     "text": [
      "BP vs Drug p-value: 3.4163844695928926e-12\n"
     ]
    }
   ],
   "source": [
    "# Performing chi-square test of independence\n",
    "bp_chi2, bp_p, bp_dof, bp_expected = chi2_contingency(bp_drug_table)\n",
    "\n",
    "print(f\"BP vs Drug p-value: {bp_p}\")"
   ]
  },
  {
   "cell_type": "code",
   "execution_count": 217,
   "id": "25b737f4",
   "metadata": {},
   "outputs": [
    {
     "data": {
      "text/html": [
       "<div>\n",
       "<style scoped>\n",
       "    .dataframe tbody tr th:only-of-type {\n",
       "        vertical-align: middle;\n",
       "    }\n",
       "\n",
       "    .dataframe tbody tr th {\n",
       "        vertical-align: top;\n",
       "    }\n",
       "\n",
       "    .dataframe thead th {\n",
       "        text-align: right;\n",
       "    }\n",
       "</style>\n",
       "<table border=\"1\" class=\"dataframe\">\n",
       "  <thead>\n",
       "    <tr style=\"text-align: right;\">\n",
       "      <th>Drug</th>\n",
       "      <th>Drug A</th>\n",
       "      <th>Drug B</th>\n",
       "      <th>Drug C</th>\n",
       "      <th>Drug X</th>\n",
       "      <th>Drug Y</th>\n",
       "    </tr>\n",
       "    <tr>\n",
       "      <th>Cholesterol</th>\n",
       "      <th></th>\n",
       "      <th></th>\n",
       "      <th></th>\n",
       "      <th></th>\n",
       "      <th></th>\n",
       "    </tr>\n",
       "  </thead>\n",
       "  <tbody>\n",
       "    <tr>\n",
       "      <th>0</th>\n",
       "      <td>11</td>\n",
       "      <td>8</td>\n",
       "      <td>0</td>\n",
       "      <td>34</td>\n",
       "      <td>44</td>\n",
       "    </tr>\n",
       "    <tr>\n",
       "      <th>1</th>\n",
       "      <td>12</td>\n",
       "      <td>8</td>\n",
       "      <td>16</td>\n",
       "      <td>20</td>\n",
       "      <td>47</td>\n",
       "    </tr>\n",
       "  </tbody>\n",
       "</table>\n",
       "</div>"
      ],
      "text/plain": [
       "Drug         Drug A  Drug B  Drug C  Drug X  Drug Y\n",
       "Cholesterol                                        \n",
       "0                11       8       0      34      44\n",
       "1                12       8      16      20      47"
      ]
     },
     "execution_count": 217,
     "metadata": {},
     "output_type": "execute_result"
    }
   ],
   "source": [
    "chol_drug_table = pd.crosstab(new_df['Cholesterol'], new_df['Drug'])\n",
    "chol_drug_table"
   ]
  },
  {
   "cell_type": "code",
   "execution_count": 218,
   "id": "ab56388e",
   "metadata": {},
   "outputs": [
    {
     "name": "stdout",
     "output_type": "stream",
     "text": [
      "Cholesterol vs Drug p-value: 0.0005962588389856504\n"
     ]
    }
   ],
   "source": [
    "chol_chi2, chol_p, chol_dof, chol_expected = chi2_contingency(chol_drug_table)\n",
    "\n",
    "print(f\"Cholesterol vs Drug p-value: {chol_p}\")"
   ]
  },
  {
   "cell_type": "code",
   "execution_count": 219,
   "id": "2f79b70e",
   "metadata": {},
   "outputs": [
    {
     "data": {
      "text/html": [
       "<div>\n",
       "<style scoped>\n",
       "    .dataframe tbody tr th:only-of-type {\n",
       "        vertical-align: middle;\n",
       "    }\n",
       "\n",
       "    .dataframe tbody tr th {\n",
       "        vertical-align: top;\n",
       "    }\n",
       "\n",
       "    .dataframe thead th {\n",
       "        text-align: right;\n",
       "    }\n",
       "</style>\n",
       "<table border=\"1\" class=\"dataframe\">\n",
       "  <thead>\n",
       "    <tr style=\"text-align: right;\">\n",
       "      <th>Drug</th>\n",
       "      <th>Drug A</th>\n",
       "      <th>Drug B</th>\n",
       "      <th>Drug C</th>\n",
       "      <th>Drug X</th>\n",
       "      <th>Drug Y</th>\n",
       "    </tr>\n",
       "    <tr>\n",
       "      <th>Sex</th>\n",
       "      <th></th>\n",
       "      <th></th>\n",
       "      <th></th>\n",
       "      <th></th>\n",
       "      <th></th>\n",
       "    </tr>\n",
       "  </thead>\n",
       "  <tbody>\n",
       "    <tr>\n",
       "      <th>0</th>\n",
       "      <td>9</td>\n",
       "      <td>6</td>\n",
       "      <td>7</td>\n",
       "      <td>27</td>\n",
       "      <td>47</td>\n",
       "    </tr>\n",
       "    <tr>\n",
       "      <th>1</th>\n",
       "      <td>14</td>\n",
       "      <td>10</td>\n",
       "      <td>9</td>\n",
       "      <td>27</td>\n",
       "      <td>44</td>\n",
       "    </tr>\n",
       "  </tbody>\n",
       "</table>\n",
       "</div>"
      ],
      "text/plain": [
       "Drug  Drug A  Drug B  Drug C  Drug X  Drug Y\n",
       "Sex                                         \n",
       "0          9       6       7      27      47\n",
       "1         14      10       9      27      44"
      ]
     },
     "execution_count": 219,
     "metadata": {},
     "output_type": "execute_result"
    }
   ],
   "source": [
    "sex_drug_table = pd.crosstab(new_df['Sex'], new_df['Drug'])\n",
    "sex_drug_table"
   ]
  },
  {
   "cell_type": "code",
   "execution_count": 220,
   "id": "2a9f455a",
   "metadata": {},
   "outputs": [
    {
     "name": "stdout",
     "output_type": "stream",
     "text": [
      "Sex vs Drug p-value: 0.7138369773987128\n"
     ]
    }
   ],
   "source": [
    "sex_chi2, sex_p, sex_dof, sex_expected = chi2_contingency(sex_drug_table)\n",
    "\n",
    "print(f\"Sex vs Drug p-value: {sex_p}\")"
   ]
  },
  {
   "cell_type": "code",
   "execution_count": 221,
   "id": "5dd5f265",
   "metadata": {},
   "outputs": [
    {
     "data": {
      "text/html": [
       "<div>\n",
       "<style scoped>\n",
       "    .dataframe tbody tr th:only-of-type {\n",
       "        vertical-align: middle;\n",
       "    }\n",
       "\n",
       "    .dataframe tbody tr th {\n",
       "        vertical-align: top;\n",
       "    }\n",
       "\n",
       "    .dataframe thead th {\n",
       "        text-align: right;\n",
       "    }\n",
       "</style>\n",
       "<table border=\"1\" class=\"dataframe\">\n",
       "  <thead>\n",
       "    <tr style=\"text-align: right;\">\n",
       "      <th>Drug</th>\n",
       "      <th>Drug A</th>\n",
       "      <th>Drug B</th>\n",
       "      <th>Drug C</th>\n",
       "      <th>Drug X</th>\n",
       "      <th>Drug Y</th>\n",
       "    </tr>\n",
       "    <tr>\n",
       "      <th>Age_Group</th>\n",
       "      <th></th>\n",
       "      <th></th>\n",
       "      <th></th>\n",
       "      <th></th>\n",
       "      <th></th>\n",
       "    </tr>\n",
       "  </thead>\n",
       "  <tbody>\n",
       "    <tr>\n",
       "      <th>&lt;31</th>\n",
       "      <td>8</td>\n",
       "      <td>0</td>\n",
       "      <td>5</td>\n",
       "      <td>13</td>\n",
       "      <td>26</td>\n",
       "    </tr>\n",
       "    <tr>\n",
       "      <th>31 to 58</th>\n",
       "      <td>15</td>\n",
       "      <td>5</td>\n",
       "      <td>8</td>\n",
       "      <td>28</td>\n",
       "      <td>44</td>\n",
       "    </tr>\n",
       "    <tr>\n",
       "      <th>&gt;58</th>\n",
       "      <td>0</td>\n",
       "      <td>11</td>\n",
       "      <td>3</td>\n",
       "      <td>13</td>\n",
       "      <td>21</td>\n",
       "    </tr>\n",
       "  </tbody>\n",
       "</table>\n",
       "</div>"
      ],
      "text/plain": [
       "Drug       Drug A  Drug B  Drug C  Drug X  Drug Y\n",
       "Age_Group                                        \n",
       "<31             8       0       5      13      26\n",
       "31 to 58       15       5       8      28      44\n",
       ">58             0      11       3      13      21"
      ]
     },
     "execution_count": 221,
     "metadata": {},
     "output_type": "execute_result"
    }
   ],
   "source": [
    "age_gr_drug_table = pd.crosstab(new_df['Age_Group'], new_df['Drug'])\n",
    "age_gr_drug_table\n",
    "\n"
   ]
  },
  {
   "cell_type": "code",
   "execution_count": 222,
   "id": "c2215359",
   "metadata": {},
   "outputs": [
    {
     "name": "stdout",
     "output_type": "stream",
     "text": [
      "Age_Group vs Drug p-value: 0.000801579802393098\n"
     ]
    }
   ],
   "source": [
    "agr_chi2, agr_p, agr_dof, agr_expected = chi2_contingency(age_gr_drug_table)\n",
    "\n",
    "print(f\"Age_Group vs Drug p-value: {agr_p}\")"
   ]
  },
  {
   "cell_type": "code",
   "execution_count": null,
   "id": "ed8feb50",
   "metadata": {},
   "outputs": [],
   "source": [
    "na_k_drug_table = pd.crosstab(new_df['Na_K_Ratio_Group'], new_df['Drug'])\n",
    "age_gr_drug_table\n"
   ]
  }
 ],
 "metadata": {
  "kernelspec": {
   "display_name": "Python 3 (ipykernel)",
   "language": "python",
   "name": "python3"
  },
  "language_info": {
   "codemirror_mode": {
    "name": "ipython",
    "version": 3
   },
   "file_extension": ".py",
   "mimetype": "text/x-python",
   "name": "python",
   "nbconvert_exporter": "python",
   "pygments_lexer": "ipython3",
   "version": "3.11.1"
  }
 },
 "nbformat": 4,
 "nbformat_minor": 5
}
